{
 "cells": [
  {
   "cell_type": "code",
   "execution_count": 2,
   "metadata": {},
   "outputs": [],
   "source": [
    "# importing libraries\n",
    "\n",
    "import nltk\n",
    "import os\n",
    "from nltk.stem.lancaster import LancasterStemmer\n",
    "import numpy as np\n",
    "import tflearn\n",
    "import tensorflow as tf\n",
    "import random as rand\n",
    "import json\n",
    "import pickle\n",
    "\n"
   ]
  },
  {
   "cell_type": "code",
   "execution_count": 3,
   "metadata": {},
   "outputs": [],
   "source": [
    "#loading Data\n",
    "\n",
    "with open(\"intents.json\") as file:\n",
    "    data = json.load(file)"
   ]
  },
  {
   "cell_type": "code",
   "execution_count": 6,
   "metadata": {},
   "outputs": [],
   "source": [
    "# Text Preprocessing\n",
    "\n",
    "#make lists from tags and patterns\n",
    "\n",
    "#Create Bag of Words(BoW) vector containing collection of unique words\n",
    "\n",
    "\n",
    "#iniializing empty lists\n",
    "\n",
    "words = []  \n",
    "labels = [] \n",
    "doc_x = []  \n",
    "doc_y = []  \n",
    "\n",
    "#looping through the data to fill the lists, patterns are converted to lower case and tokenized before adding to respective lists\n",
    "\n",
    "\n",
    "for intent in data['intents']:\n",
    "    for pattern in intent['patterns']:\n",
    "        pattern = pattern.lower()\n",
    "        \n",
    "        #creating a list of words\n",
    "        w = nltk.word_tokenize(pattern)\n",
    "        words.extend(w)\n",
    "        doc_x.append(w)\n",
    "        doc_y.append(intent['tag']) \n",
    "        \n",
    "        \n",
    "    if intent['tag'] not in labels:\n",
    "        labels.append(intent['tag'])\n",
    "        \n",
    "        \n",
    "        \n",
    "        \n",
    "        \n",
    "        \n",
    "        \n",
    "        \n",
    "        \n",
    "        "
   ]
  },
  {
   "cell_type": "code",
   "execution_count": 38,
   "metadata": {},
   "outputs": [],
   "source": [
    "#Stemming (reduction of word to its root form) and Vectorization (converting sentences into to numerical form for ML/DL algorithms)\n",
    "\n",
    "stemmer = LancasterStemmer()    \n",
    "words = [stemmer.stem(w.lower()) for w in words if w not in \"?\"]    \n",
    "words = sorted(list(set(words)))\n",
    "labels = sorted(labels)\n",
    "\n",
    "training = []\n",
    "output = []\n",
    "\n",
    "out_empty = [0 for _ in range(len(labels))]\n",
    "\n",
    "for x, doc in enumerate(doc_x):\n",
    "    bag = []\n",
    "    wrds = [stemmer.stem(w) for w in doc]\n",
    "    for w in words:\n",
    "        if w in wrds:\n",
    "            bag.append(1)\n",
    "        else:\n",
    "            bag.append(0)\n",
    "    output_row = out_empty[:]\n",
    "    output_row[labels.index(doc_y[x])] = 1\n",
    "    training.append(bag)\n",
    "    output.append(output_row)\n",
    "    \n",
    "#converting training data into NumPy arrays\n",
    "training = np.array(training, dtype=object)\n",
    "output = np.array(output)\n",
    "\n",
    "#saving data to disk\n",
    "\n",
    "with open(\"data.pickle\", \"wb\") as f:\n",
    "    pickle.dump((words, labels, training, output),f)\n",
    "\n",
    "\n",
    "\n",
    "            \n",
    "            \n",
    "            \n",
    "            \n",
    "            \n",
    "            \n",
    "            "
   ]
  },
  {
   "cell_type": "code",
   "execution_count": 39,
   "metadata": {},
   "outputs": [
    {
     "data": {
      "text/plain": [
       "array([[0, 0, 0, ..., 0, 0, 0],\n",
       "       [0, 0, 0, ..., 0, 0, 0],\n",
       "       [0, 0, 0, ..., 0, 0, 1],\n",
       "       ...,\n",
       "       [0, 0, 0, ..., 1, 0, 0],\n",
       "       [0, 0, 1, ..., 0, 0, 0],\n",
       "       [0, 0, 1, ..., 0, 0, 0]], dtype=object)"
      ]
     },
     "execution_count": 39,
     "metadata": {},
     "output_type": "execute_result"
    }
   ],
   "source": [
    "training"
   ]
  },
  {
   "cell_type": "markdown",
   "metadata": {},
   "source": [
    "\n",
    "Building a model"
   ]
  },
  {
   "cell_type": "code",
   "execution_count": 40,
   "metadata": {},
   "outputs": [],
   "source": [
    "#Building a model\n",
    "tf.compat.v1.reset_default_graph()\n",
    "\n",
    "net = tflearn.input_data(shape= [None, len(training[0])])   \n",
    "net = tflearn.fully_connected(net,8)\n",
    "net = tflearn.fully_connected(net,8)    \n",
    "net = tflearn.fully_connected(net, len(output[0]), activation = \"softmax\")  \n",
    "net = tflearn.regression(net)\n",
    "\n",
    "model = tflearn.DNN(net)"
   ]
  },
  {
   "cell_type": "code",
   "execution_count": 42,
   "metadata": {},
   "outputs": [
    {
     "name": "stdout",
     "output_type": "stream",
     "text": [
      "Training Step: 1838  | total loss: \u001b[1m\u001b[32m0.01222\u001b[0m\u001b[0m | time: 0.012s\n",
      "| Adam | epoch: 263 | loss: 0.01222 - acc: 1.0000 -- iter: 32/55\n"
     ]
    }
   ],
   "source": [
    "#fit the model on our data\n",
    "\n",
    "model.fit(training, output, n_epoch=200, batch_size=8, show_metric=True)\n",
    "\n",
    "model.save(\"model.tflearn\")"
   ]
  },
  {
   "cell_type": "code",
   "execution_count": 28,
   "metadata": {},
   "outputs": [
    {
     "data": {
      "text/plain": [
       "array([list([1]), list([1]), list([1, 1, 1]), list([1, 1, 1, 1]),\n",
       "       list([1]), list([1, 1]), list([1, 1, 1]), list([1, 1, 1]),\n",
       "       list([1, 1, 1, 1, 1, 1]), list([1, 1, 1, 1, 1, 1]), list([1, 1]),\n",
       "       list([1, 1, 1, 1, 1, 1]), list([1, 1, 1, 1, 1, 1]),\n",
       "       list([1, 1, 1, 1, 1, 1]), list([1, 1]), list([1, 1, 1, 1, 1, 1]),\n",
       "       list([1, 1]), list([1]), list([1, 1, 1]), list([1]),\n",
       "       list([1, 1, 1]), list([1, 1, 1, 1]), list([1, 1]),\n",
       "       list([1, 1, 1, 1, 1]), list([1, 1, 1, 1, 1]), list([1, 1]),\n",
       "       list([1, 1, 1, 1]), list([1, 1, 1, 1]), list([1, 1, 1, 1]),\n",
       "       list([1, 1]), list([1, 1, 1, 1]), list([1, 1, 1, 1, 1]),\n",
       "       list([1, 1, 1, 1]), list([1, 1, 1, 1, 1]), list([1, 1, 1, 1]),\n",
       "       list([1, 1, 1]), list([1]), list([1, 1, 1, 1]),\n",
       "       list([1, 1, 1, 1, 1]), list([1, 1, 1, 1]), list([1, 1, 1, 1, 1]),\n",
       "       list([1, 1, 1, 1, 1, 1]), list([1, 1]), list([1, 1]), list([1, 1]),\n",
       "       list([1, 1, 1, 1, 1]), list([1, 1, 1, 1, 1, 1]),\n",
       "       list([1, 1, 1, 1, 1, 1]), list([1, 1, 1, 1, 1, 1, 1]),\n",
       "       list([1, 1, 1, 1, 1]), list([1, 1, 1]), list([1, 1, 1, 1, 1]),\n",
       "       list([1, 1, 1, 1, 1, 1]), list([1]), list([1, 1, 1, 1])],\n",
       "      dtype=object)"
      ]
     },
     "execution_count": 28,
     "metadata": {},
     "output_type": "execute_result"
    }
   ],
   "source": [
    "training"
   ]
  },
  {
   "cell_type": "code",
   "execution_count": null,
   "metadata": {},
   "outputs": [],
   "source": []
  }
 ],
 "metadata": {
  "interpreter": {
   "hash": "a4bca749b652db5e9b70a6153fb4c7a462a1fe5c54a915d5358db7e63beb04ee"
  },
  "kernelspec": {
   "display_name": "Python 3.9.7 64-bit ('noobbot': conda)",
   "name": "python3"
  },
  "language_info": {
   "codemirror_mode": {
    "name": "ipython",
    "version": 3
   },
   "file_extension": ".py",
   "mimetype": "text/x-python",
   "name": "python",
   "nbconvert_exporter": "python",
   "pygments_lexer": "ipython3",
   "version": "3.9.7"
  },
  "orig_nbformat": 4
 },
 "nbformat": 4,
 "nbformat_minor": 2
}
